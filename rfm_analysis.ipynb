{
  "cells": [
    {
      "cell_type": "code",
      "execution_count": null,
      "metadata": {
        "id": "jQ5LcOTw8EZ3"
      },
      "outputs": [],
      "source": [
        "import pandas as pd\n",
        "import numpy as np\n",
        "from math import ceil"
      ]
    },
    {
      "cell_type": "code",
      "execution_count": null,
      "metadata": {
        "id": "xgMeEmE88EaI"
      },
      "outputs": [],
      "source": [
        "# first of all, we import our data\n",
        "data=pd.read_excel('rfm.xlsx')[['customer_id','date_created_gmt','total']]\n",
        "# since the order_id won't be useful, we set the 'customer_id' as our index\n",
        "data=data.set_index('customer_id').sort_index()\n",
        "# we modify the column 'date_created_gmt' using REGEX : there is a letter T in the middle of the date string\n",
        "# which doesn't allow us to convert it into a date type\n",
        "data['date_created_gmt']=data['date_created_gmt'].replace(to_replace='[T]', value=' ',regex=True).transform(pd.Timestamp)\n",
        "# we add a 'today' column which we will use later on to determine the recency\n",
        "data['today']=pd.Timestamp.today()"
      ]
    },
    {
      "cell_type": "markdown",
      "metadata": {
        "id": "zhWh6Du68EaM"
      },
      "source": [
        "# Approach :\n",
        "The idea is to divide the data into different tables: 'recency_table', 'frequency_table' and 'monetary_table'.Then  determine the score and finally merge all tables to get the data that we want"
      ]
    },
    {
      "cell_type": "code",
      "execution_count": null,
      "metadata": {
        "id": "P73dvvxu8EaW"
      },
      "outputs": [],
      "source": [
        "def score_recency (group):\n",
        "    duree=np.min(group['today'].dt.to_period('D').view(dtype='int64')-group['date_created_gmt'].dt.to_period('D').view(dtype='int64'))\n",
        "    if duree<5:\n",
        "        return 5\n",
        "    elif 5<=duree<8:return 4\n",
        "    elif 8<=duree<21:return 3\n",
        "    elif 21<=duree<=33:return 2\n",
        "    return 1\n",
        "def frequency(group):\n",
        "    freq= np.sum(1*(group['total']>0))\n",
        "\n",
        "    return freq\n",
        "def monetary(group):\n",
        "    return np.sum(group['total'])\n",
        "\n",
        "def frequency_score(): # this function divides the 'frequency' table into segments of 20%s and return a column score\n",
        "    # number_of_lines -> 100%\n",
        "    # x               -> 20%\n",
        "    n=len(frequency_table)\n",
        "    d=frequency_table['frequency'].copy().to_dict()\n",
        "    l=[]\n",
        "    for x in d:\n",
        "        l.append(d[x])\n",
        "\n",
        "    l2={}\n",
        "    l=list(set(l))\n",
        "    l.sort(reverse=True)\n",
        "    score =5\n",
        "    mn=1\n",
        "    n=len(l)\n",
        "    for i in range(n):\n",
        "        if i+1==int(mn*n/5):\n",
        "            mn+=1\n",
        "            score-=1\n",
        "        l2[l[i]]=max(1,score)\n",
        "    for x in d:\n",
        "        d[x]=l2[d[x]]\n",
        "    frequency_table['frequency_score']=pd.Series(d).copy().to_frame()\n",
        "    return frequency_table\n",
        "def monetary_score(): # this function divides the table into segments of 20%s and return a column score\n",
        "    # number_of_lines -> 100%\n",
        "    # x               -> 20%\n",
        "    n=len(monetary_table)\n",
        "    d=monetary_table['monetary'].copy().to_dict()\n",
        "    l=[]\n",
        "    for x in d:\n",
        "        l.append(d[x])\n",
        "    l.sort(reverse=True)\n",
        "    l2={}\n",
        "\n",
        "    score =5\n",
        "    mn=1\n",
        "    for i in range(n):\n",
        "        if i+1==int(mn*n/5):\n",
        "            mn+=1\n",
        "            score-=1\n",
        "        if l[i] not in l2:\n",
        "            l2[l[i]]=score\n",
        "    for x in d:\n",
        "        d[x]=l2[d[x]]\n",
        "    monetary_table['monetary_score']=pd.Series(d).copy().to_frame()\n",
        "    return monetary_table"
      ]
    },
    {
      "cell_type": "code",
      "execution_count": null,
      "metadata": {
        "scrolled": true,
        "id": "62sr00wk8Eae"
      },
      "outputs": [],
      "source": [
        "recency_table=data.groupby('customer_id').apply(score_recency).to_frame('recency_score').dropna()\n",
        "frequency_table=data.groupby('customer_id').apply(frequency).to_frame('frequency').dropna()\n",
        "monetary_table=data.groupby('customer_id').apply(monetary).to_frame('monetary').dropna()"
      ]
    },
    {
      "cell_type": "code",
      "execution_count": null,
      "metadata": {
        "id": "KyGR5UEQ8Eag"
      },
      "outputs": [],
      "source": [
        "frequency_table=frequency_score()\n",
        "monetary_table=monetary_score()"
      ]
    },
    {
      "cell_type": "code",
      "execution_count": null,
      "metadata": {
        "id": "RZztIz2A8Eai"
      },
      "outputs": [],
      "source": [
        "data=pd.merge(pd.merge(recency_table,frequency_table,how='inner',left_index=True, right_index=True),monetary_table,how='inner',left_index=True, right_index=True)"
      ]
    },
    {
      "cell_type": "code",
      "execution_count": null,
      "metadata": {
        "id": "xDFVnqze8Eak"
      },
      "outputs": [],
      "source": [
        "data['RFM_score']=data.apply(lambda x:(x['frequency_score']+x['monetary_score']+x['recency_score'])/3,axis=1)\n",
        "data=data.sort_values(by='RFM_score',ascending=False)\n",
        "data['tuple']=data.groupby('customer_id').apply(lambda x:(list(x['frequency_score'])+list(x['monetary_score'])+list(x['recency_score'])))"
      ]
    },
    {
      "cell_type": "code",
      "execution_count": null,
      "metadata": {
        "id": "VU0-qIw18Ean",
        "outputId": "095f2eb2-5433-40f1-8f9a-aa19391f5ce1"
      },
      "outputs": [
        {
          "data": {
            "text/html": [
              "<div>\n",
              "<style scoped>\n",
              "    .dataframe tbody tr th:only-of-type {\n",
              "        vertical-align: middle;\n",
              "    }\n",
              "\n",
              "    .dataframe tbody tr th {\n",
              "        vertical-align: top;\n",
              "    }\n",
              "\n",
              "    .dataframe thead th {\n",
              "        text-align: right;\n",
              "    }\n",
              "</style>\n",
              "<table border=\"1\" class=\"dataframe\">\n",
              "  <thead>\n",
              "    <tr style=\"text-align: right;\">\n",
              "      <th></th>\n",
              "      <th>recency_score</th>\n",
              "      <th>frequency</th>\n",
              "      <th>frequency_score</th>\n",
              "      <th>monetary</th>\n",
              "      <th>monetary_score</th>\n",
              "      <th>RFM_score</th>\n",
              "      <th>tuple</th>\n",
              "    </tr>\n",
              "    <tr>\n",
              "      <th>customer_id</th>\n",
              "      <th></th>\n",
              "      <th></th>\n",
              "      <th></th>\n",
              "      <th></th>\n",
              "      <th></th>\n",
              "      <th></th>\n",
              "      <th></th>\n",
              "    </tr>\n",
              "  </thead>\n",
              "  <tbody>\n",
              "    <tr>\n",
              "      <th>1</th>\n",
              "      <td>2</td>\n",
              "      <td>30</td>\n",
              "      <td>5</td>\n",
              "      <td>41744.0</td>\n",
              "      <td>5</td>\n",
              "      <td>4.000000</td>\n",
              "      <td>[5, 5, 2]</td>\n",
              "    </tr>\n",
              "    <tr>\n",
              "      <th>38</th>\n",
              "      <td>3</td>\n",
              "      <td>11</td>\n",
              "      <td>4</td>\n",
              "      <td>7498.0</td>\n",
              "      <td>5</td>\n",
              "      <td>4.000000</td>\n",
              "      <td>[4, 5, 3]</td>\n",
              "    </tr>\n",
              "    <tr>\n",
              "      <th>521</th>\n",
              "      <td>3</td>\n",
              "      <td>10</td>\n",
              "      <td>4</td>\n",
              "      <td>3150.5</td>\n",
              "      <td>5</td>\n",
              "      <td>4.000000</td>\n",
              "      <td>[4, 5, 3]</td>\n",
              "    </tr>\n",
              "    <tr>\n",
              "      <th>515</th>\n",
              "      <td>2</td>\n",
              "      <td>10</td>\n",
              "      <td>4</td>\n",
              "      <td>3886.0</td>\n",
              "      <td>5</td>\n",
              "      <td>3.666667</td>\n",
              "      <td>[4, 5, 2]</td>\n",
              "    </tr>\n",
              "    <tr>\n",
              "      <th>67</th>\n",
              "      <td>2</td>\n",
              "      <td>10</td>\n",
              "      <td>4</td>\n",
              "      <td>2754.5</td>\n",
              "      <td>5</td>\n",
              "      <td>3.666667</td>\n",
              "      <td>[4, 5, 2]</td>\n",
              "    </tr>\n",
              "    <tr>\n",
              "      <th>...</th>\n",
              "      <td>...</td>\n",
              "      <td>...</td>\n",
              "      <td>...</td>\n",
              "      <td>...</td>\n",
              "      <td>...</td>\n",
              "      <td>...</td>\n",
              "      <td>...</td>\n",
              "    </tr>\n",
              "    <tr>\n",
              "      <th>3256</th>\n",
              "      <td>1</td>\n",
              "      <td>1</td>\n",
              "      <td>1</td>\n",
              "      <td>200.0</td>\n",
              "      <td>1</td>\n",
              "      <td>1.000000</td>\n",
              "      <td>[1, 1, 1]</td>\n",
              "    </tr>\n",
              "    <tr>\n",
              "      <th>2249</th>\n",
              "      <td>1</td>\n",
              "      <td>1</td>\n",
              "      <td>1</td>\n",
              "      <td>140.0</td>\n",
              "      <td>1</td>\n",
              "      <td>1.000000</td>\n",
              "      <td>[1, 1, 1]</td>\n",
              "    </tr>\n",
              "    <tr>\n",
              "      <th>3258</th>\n",
              "      <td>1</td>\n",
              "      <td>1</td>\n",
              "      <td>1</td>\n",
              "      <td>182.0</td>\n",
              "      <td>1</td>\n",
              "      <td>1.000000</td>\n",
              "      <td>[1, 1, 1]</td>\n",
              "    </tr>\n",
              "    <tr>\n",
              "      <th>300</th>\n",
              "      <td>1</td>\n",
              "      <td>1</td>\n",
              "      <td>1</td>\n",
              "      <td>240.0</td>\n",
              "      <td>1</td>\n",
              "      <td>1.000000</td>\n",
              "      <td>[1, 1, 1]</td>\n",
              "    </tr>\n",
              "    <tr>\n",
              "      <th>2628</th>\n",
              "      <td>1</td>\n",
              "      <td>1</td>\n",
              "      <td>1</td>\n",
              "      <td>140.0</td>\n",
              "      <td>1</td>\n",
              "      <td>1.000000</td>\n",
              "      <td>[1, 1, 1]</td>\n",
              "    </tr>\n",
              "  </tbody>\n",
              "</table>\n",
              "<p>3180 rows × 7 columns</p>\n",
              "</div>"
            ],
            "text/plain": [
              "             recency_score  frequency  frequency_score  monetary  \\\n",
              "customer_id                                                        \n",
              "1                        2         30                5   41744.0   \n",
              "38                       3         11                4    7498.0   \n",
              "521                      3         10                4    3150.5   \n",
              "515                      2         10                4    3886.0   \n",
              "67                       2         10                4    2754.5   \n",
              "...                    ...        ...              ...       ...   \n",
              "3256                     1          1                1     200.0   \n",
              "2249                     1          1                1     140.0   \n",
              "3258                     1          1                1     182.0   \n",
              "300                      1          1                1     240.0   \n",
              "2628                     1          1                1     140.0   \n",
              "\n",
              "             monetary_score  RFM_score      tuple  \n",
              "customer_id                                        \n",
              "1                         5   4.000000  [5, 5, 2]  \n",
              "38                        5   4.000000  [4, 5, 3]  \n",
              "521                       5   4.000000  [4, 5, 3]  \n",
              "515                       5   3.666667  [4, 5, 2]  \n",
              "67                        5   3.666667  [4, 5, 2]  \n",
              "...                     ...        ...        ...  \n",
              "3256                      1   1.000000  [1, 1, 1]  \n",
              "2249                      1   1.000000  [1, 1, 1]  \n",
              "3258                      1   1.000000  [1, 1, 1]  \n",
              "300                       1   1.000000  [1, 1, 1]  \n",
              "2628                      1   1.000000  [1, 1, 1]  \n",
              "\n",
              "[3180 rows x 7 columns]"
            ]
          },
          "execution_count": 90,
          "metadata": {},
          "output_type": "execute_result"
        }
      ],
      "source": [
        "data"
      ]
    },
    {
      "cell_type": "markdown",
      "metadata": {
        "id": "aUhrfinq8Ea1"
      },
      "source": [
        "Now we can visualize the data and determine the types of our clients"
      ]
    }
  ],
  "metadata": {
    "kernelspec": {
      "display_name": "Python 3",
      "language": "python",
      "name": "python3"
    },
    "language_info": {
      "codemirror_mode": {
        "name": "ipython",
        "version": 3
      },
      "file_extension": ".py",
      "mimetype": "text/x-python",
      "name": "python",
      "nbconvert_exporter": "python",
      "pygments_lexer": "ipython3",
      "version": "3.9.0"
    },
    "colab": {
      "provenance": []
    }
  },
  "nbformat": 4,
  "nbformat_minor": 0
}